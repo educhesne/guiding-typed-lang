{
 "cells": [
  {
   "attachments": {},
   "cell_type": "markdown",
   "id": "564bd8bc-cad1-4164-8ce5-e75436010229",
   "metadata": {},
   "source": [
    "(synthesized)=\n",
    "# Synthesized attributes in Lark\n",
    "\n",
    "Attributes are values attached to the grammar symbols, and synthesized attributes are attributes of\n",
    "non-terminal symbols which are computed at the moment of a reduction introducing that symbol (so they are \n",
    "computed bottom-up).\n",
    "\n",
    "In the grammar they are written as python expressions between `{{` and `}}` at the end of a rule.\n",
    "\n",
    "For instance the classic arithmetic grammar with synthesized attributes computing the value of the expression:"
   ]
  },
  {
   "cell_type": "code",
   "execution_count": 1,
   "id": "42efd1ea-9d91-4f19-b1d4-33c2047e4e80",
   "metadata": {},
   "outputs": [
    {
     "data": {
      "text/plain": [
       "8"
      ]
     },
     "execution_count": 1,
     "metadata": {},
     "output_type": "execute_result"
    }
   ],
   "source": [
    "from lark import Lark\n",
    "\n",
    "synthesized_arith_grammar = \"\"\"\n",
    "%import common.NUMBER\n",
    "%import common.WS_INLINE\n",
    "%ignore WS_INLINE\n",
    "\n",
    "?start: sum     {{ syn[1] }}\n",
    "\n",
    "?sum: product           {{ syn[1] }} \n",
    "| sum \"+\" product       {{ syn[1] + syn[3] }}\n",
    "| sum \"-\" product       {{ syn[1] - syn[3] }}\n",
    "\n",
    "?product: atom           {{syn[1]}}\n",
    "| product \"*\" atom       {{syn[1] * syn[3]}}\n",
    "| product \"/\" atom       {{syn[1] / syn[3]}}\n",
    "\n",
    "?atom: NUMBER         {{int(syn[1])}}\n",
    "| \"-\" atom            {{-syn[2]}}\n",
    "| \"(\" sum \")\"         {{syn[2]}}\n",
    "\"\"\"\n",
    "\n",
    "parser = Lark(synthesized_arith_grammar, parser=\"lalr\")\n",
    "_, res = parser.parse(\"5 * 3 -7\")\n",
    "res"
   ]
  },
  {
   "cell_type": "markdown",
   "id": "b5abe04e-66dd-480d-a0a6-a88184f1b370",
   "metadata": {},
   "source": [
    "In these attributes, `syn` is a special variable referring to the synthesized attributes of the symbols of the expansion it annotates.\n",
    "The indexing starts at 1 (like in yacc/bison), and terminal symbols are automatically given a synthesized attribute \n",
    "of their matching value.\n",
    "\n",
    "Inside the parser the attribute expressions are stored as python [AST](https://docs.python.org/3/library/ast.html) objects attached to the rules. A stack of attributes is maintained alongside the stack of values and the stack of states, and \n",
    "these AST objects are transformed so that the `syn` slices point to the correct element of the attributes stack. \n",
    "\n",
    "Let's look at the internals of one of the rules deriving `product` for illustration:"
   ]
  },
  {
   "cell_type": "code",
   "execution_count": 2,
   "id": "1ada19f6-8174-431e-99bb-ff96cefdf51b",
   "metadata": {},
   "outputs": [
    {
     "name": "stdout",
     "output_type": "stream",
     "text": [
      "NonTerminal(Token('RULE', 'product'),'') : [NonTerminal('product',''), Terminal('STAR'), NonTerminal('atom','')], {{ stack[-3] * stack[-1] }}   \n"
     ]
    }
   ],
   "source": [
    "import ast\n",
    "rule = parser.rules[5]\n",
    "print(f\"{rule.origin} : {rule.expansion}, {{{{ {ast.unparse(rule.ast)} }}}}   \")"
   ]
  },
  {
   "cell_type": "markdown",
   "id": "2f861e88-c75b-48b5-a7fe-41b373b3d0b3",
   "metadata": {},
   "source": [
    "The AST expression is evaluated at the reduction step, when the top of the stack of attributes is filled with the \n",
    "attributes of the symbols `product`, `STAR` and `atom`.\n",
    "\n",
    "The environment of its evaluation is set so that `stack` points to attributes stack, effectively computing the product of the attribute of `product` with the attribute of `atom`, and pushing the result into the attributes stack."
   ]
  }
 ],
 "metadata": {
  "kernelspec": {
   "display_name": "notebook",
   "language": "python",
   "name": "notebook"
  },
  "language_info": {
   "codemirror_mode": {
    "name": "ipython",
    "version": 3
   },
   "file_extension": ".py",
   "mimetype": "text/x-python",
   "name": "python",
   "nbconvert_exporter": "python",
   "pygments_lexer": "ipython3",
   "version": "3.10.12"
  }
 },
 "nbformat": 4,
 "nbformat_minor": 5
}
