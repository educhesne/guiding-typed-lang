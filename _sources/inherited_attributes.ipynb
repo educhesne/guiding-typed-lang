{
 "cells": [
  {
   "cell_type": "markdown",
   "id": "8d35a9aa-7140-453e-b20e-46e67e143d01",
   "metadata": {},
   "source": [
    "(inherited)=\n",
    "# Inherited attributes and the marker trick\n",
    "\n",
    "Inherited attributes are attributes of non-terminal symbols which are defined in terms of the\n",
    "synthesized attributes of the siblings of the symbol\n",
    "(only those on its left) and of the inherited attribute of its parent.\n",
    "\n",
    "They are computed *before* entering a derivation for a non-terminal symbol, not after its reduction like a synthesized attributes.\n",
    "It is possible to translate inherited attributes into synthesized ones following the marker trick\n",
    "explained in the [dragon book](https://www.oreilly.com/library/view/compilers-principles-techniques/9789357054881/) (section 5.5.4).\n",
    "\n",
    "## Marker trick\n",
    "\n",
    "The inherited attributes are python expressions attached directly to the non-terminal symbols (again between `{{` and `}}`).\n",
    "\n",
    "The marker trick works as follows, every time an inherited attributes is defined in a rule:\n",
    "* insert a new non-terminal symbol (the marker) just before\n",
    "* add a new rule to the grammar in which the marker derives to an empty string, and with the \n",
    "inherited attribute expression attached to it as a synthesized attribute\n",
    "> `a: b c{{expr}} d` is replaced with `a: b m c d` and a new rule `m: {{expr}}` is added to the grammar\n",
    "\n",
    "## Declared variables with inherited attributes\n",
    "\n",
    "Thanks to the inherited attributes, we can define `let ... in ...` statements, and pass on a context of declared variables.\n",
    "\n",
    "We'll go with an example to illustrate the feature. So, here is the (simplified) arithmetic grammar with `let ... in ...` statements:"
   ]
  },
  {
   "cell_type": "code",
   "execution_count": 4,
   "id": "9fc7dbf6-bb3e-4b0f-8c81-794d42d6ccb1",
   "metadata": {},
   "outputs": [
    {
     "data": {
      "text/plain": [
       "0"
      ]
     },
     "execution_count": 4,
     "metadata": {},
     "output_type": "execute_result"
    }
   ],
   "source": [
    "from attribute_lark import AttributeLark\n",
    "\n",
    "inherited_arith_grammar = \"\"\"\n",
    "%import common.NUMBER\n",
    "%import common.WS_INLINE\n",
    "%import common.CNAME\n",
    "%ignore WS_INLINE\n",
    "%python_header {{\n",
    "\n",
    "from typing import NamedTuple\n",
    "Ctx = NamedTuple('Ctx', [('ctx', dict[str, any]), ('value', any)])\n",
    "\n",
    "}}\n",
    "\n",
    "start: \"let\" declar_var{{ Ctx(dict(), None) }} \"in\" expr{{ Ctx(syn[2].ctx, None) }}       {{ syn[4].value }}\n",
    "\n",
    "declar_var: CNAME \"=\" expr{{ inh }} _declar_var{{ Ctx({ syn[1]: syn[3].value, **inh.ctx }, None) }}   {{ syn[4] }}\n",
    "\n",
    "_declar_var:                 {{ inh }}\n",
    "| \",\" declar_var{{ inh }}    {{ syn[2] }}\n",
    "\n",
    "\n",
    "expr: atom{{ inh }} _sum{{ syn[1] }}     {{ syn[2] }}\n",
    "\n",
    "_sum:                     {{ inh }}\n",
    "| \"+\" expr{{ inh }}       {{ Ctx(syn[2].ctx, syn[2].value + inh.value) }}\n",
    "\n",
    "atom: NUMBER                  {{ Ctx(inh.ctx, int(syn[1])) }}\n",
    "| CNAME                       {{ Ctx(inh.ctx, inh.ctx[syn[1]]) }}\n",
    "| \"-\" atom{{ inh }}           {{ Ctx(inh.ctx, -syn[2].value) }}\n",
    "\"\"\"\n",
    "\n",
    "parser = AttributeLark(inherited_arith_grammar)\n",
    "parse_tree, attribute = parser.parse(\"let x = 5, y = 10 in 5 + x + -y\", start=\"start\")\n",
    "attribute"
   ]
  },
  {
   "cell_type": "markdown",
   "id": "93d14b7e-e5ef-468b-a525-1018d9301749",
   "metadata": {},
   "source": [
    "First note that we have defined a python header; it will be stored in the parser as an AST module and executed every time\n",
    "before the evaluation of the attributes.\n",
    "\n",
    "A new special variable `inh` is also introduced; it will point to the inherited attribute of the rule's origin symbol.\n",
    "\n",
    "Let's have a look at the rule for `declar_var`:"
   ]
  },
  {
   "cell_type": "code",
   "execution_count": 5,
   "id": "6bb0aec9-1399-479e-9639-bd92f205e56c",
   "metadata": {},
   "outputs": [
    {
     "name": "stdout",
     "output_type": "stream",
     "text": [
      "declar_var : ['CNAME', 'EQUAL', '_#declar_var#0#2', 'expr', '_#declar_var#0#3', '_declar_var'],\t{{ stack[-1] }}\n",
      "_#declar_var#0#2 : [],\t{{ stack[-3] }}\n",
      "_#declar_var#0#3 : [],\t{{ Ctx({stack[-4]: stack[-1].value, **stack[-5].ctx}, None) }}\n"
     ]
    }
   ],
   "source": [
    "import ast\n",
    "from attribute_lark.grammar import Terminal\n",
    "rules = parser.rules[3:6]\n",
    "for r in rules:\n",
    "    print(f\"{r.origin.name} : {[t.name if isinstance(t, Terminal) else t.name.value for t in r.expansion]},\\t{{{{ {ast.unparse(r.ast)} }}}}\")"
   ]
  },
  {
   "cell_type": "markdown",
   "id": "166fa094-8a74-4c55-8d2b-5d5de4dc4ea0",
   "metadata": {},
   "source": [
    "Here two new non-terminal symbols with empty derivation have been introducted at the compilation\n",
    "of the grammar, one for each inherited attribute defined in the rule:\n",
    "* `_#declar_var#0#2` with attribute `{{ stack[-3] }}`\n",
    "* `_#declar_var#0#3` with attribute `{{ Ctx({stack[-4]: stack[-1].value, **stack[-5].ctx}, None) }}`\n",
    "\n",
    "If we pay attention to the slice indices, `inh` (pushed into the new `_declar_var#0#2` rule) has been\n",
    "replaced by a pointer to the element of the stack \n",
    "just before the attributes of the symbols appearing in the rule, which is where the inherited attribute of\n",
    "the origin symbol (`declar_var`) is stored.\n",
    "\n",
    "During the running of the parser, the stack of attributes ends up being an intertwining of synthesized and inherited attributes. The indices of the synthesized attributes are updated in consequences.\n",
    "\n",
    "In order to pass on the declaration context, an inherited attribute needs to be added at every non-terminal \n",
    "symbol. And a clear disadvantage of abusing inherited attributes is that it generates a lot of conflicts in the \n",
    "parser  -- hence the cumbersome rules.\n",
    "\n",
    "This issue can easily be solved with the introduction of a global variable to keep track of the context.\n",
    "\n",
    "## Inherited attributes and global variable\n",
    "\n",
    "Let's introduce another special variable to use in attribute expressions (besides `syn` and `inh`): `GLOBAL`.\n",
    "\n",
    "It is simply an empty object (so, mutable), whose reference is passed into the environment \n",
    "of evaluation of attribute expressions.\n",
    "\n",
    "Thanks to that global variable, inherited attributes are now needed only at the entrance and exit of the declaration \n",
    "context (to add and remove variables from the context). Here again the arithmetic grammar with `let ... in ...` statements, this\n",
    "time using the global variable:"
   ]
  },
  {
   "cell_type": "code",
   "execution_count": 6,
   "id": "9adafbd0-2ef9-4c58-a0a8-7544f1ee295f",
   "metadata": {},
   "outputs": [
    {
     "data": {
      "text/plain": [
       "35"
      ]
     },
     "execution_count": 6,
     "metadata": {},
     "output_type": "execute_result"
    }
   ],
   "source": [
    "global_arith_grammar = \"\"\"\n",
    "%import common.NUMBER\n",
    "%import common.CNAME\n",
    "%import common.WS_INLINE\n",
    "%ignore WS_INLINE\n",
    "\n",
    "%python_header {{\n",
    "\n",
    "def init_ctx(obj): \n",
    "    obj.ctx = dict()\n",
    "\n",
    "pop_list = lambda ctx, declar_var: [ctx.pop(k) for k,v in declar_var]\n",
    "\n",
    "}}\n",
    "\n",
    "start: sum{{ init_ctx(GLOBAL) }}         {{ syn[1] }}\n",
    "| \"let\" declar_var{{ init_ctx(GLOBAL) }} \"in\" sum{{ GLOBAL.ctx.update(syn[2]) }}    {{ [pop_list(GLOBAL.ctx, syn[2]), syn[4]][1] }}\n",
    "\n",
    "declar_var: CNAME \"=\" sum  _declar_var   {{ [(syn[1], syn[3])] + syn[4] }}\n",
    "\n",
    "_declar_var:                 {{ [] }}\n",
    "| \",\" declar_var           {{ syn[2] }}\n",
    "\n",
    "\n",
    "?sum: product           {{ syn[1] }} \n",
    "| sum \"+\" product       {{ syn[1] + syn[3] }}\n",
    "| sum \"-\" product       {{ syn[1] - syn[3] }}\n",
    "\n",
    "?product: atom           {{ syn[1] }}\n",
    "| product \"*\" atom       {{ syn[1] * syn[3] }}\n",
    "| product \"/\" atom       {{ syn[1] / syn[3] }}\n",
    "\n",
    "?atom: NUMBER         {{ int(syn[1]) }}\n",
    "| CNAME               {{ GLOBAL.ctx[syn[1]] }}\n",
    "| \"-\" atom            {{ -syn[2] }}\n",
    "| \"(\" sum \")\"         {{ syn[2] }}\n",
    "\"\"\"\n",
    "\n",
    "parser = AttributeLark(global_arith_grammar)\n",
    "parse_tree, attribute = parser.parse(\"let x = 5, y = 10 in 5 * x + y\", start=\"start\")\n",
    "attribute"
   ]
  }
 ],
 "metadata": {
  "kernelspec": {
   "display_name": "guiding-typed-lang",
   "language": "python",
   "name": "guiding-typed-lang"
  },
  "language_info": {
   "codemirror_mode": {
    "name": "ipython",
    "version": 3
   },
   "file_extension": ".py",
   "mimetype": "text/x-python",
   "name": "python",
   "nbconvert_exporter": "python",
   "pygments_lexer": "ipython3",
   "version": "3.12.9"
  }
 },
 "nbformat": 4,
 "nbformat_minor": 5
}
